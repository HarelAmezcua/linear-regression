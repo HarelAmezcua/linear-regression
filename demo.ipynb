{
 "cells": [
  {
   "cell_type": "markdown",
   "metadata": {},
   "source": [
    "# First Activity"
   ]
  },
  {
   "cell_type": "code",
   "execution_count": 1,
   "metadata": {},
   "outputs": [],
   "source": [
    "import os\n",
    "import numpy as np\n",
    "import pandas as pd\n",
    "import matplotlib.pyplot as plt\n",
    "import linear_regression.functions as f"
   ]
  },
  {
   "cell_type": "markdown",
   "metadata": {},
   "source": [
    "### First part\n",
    "Solve a linear regression problem for each of the the next dataset:\n",
    "\n",
    "- df_regresion_lineal_1.csv\n",
    "- df_regresion_lineal_2.csv\n",
    "- df_regresion_lineal_3.csv\n"
   ]
  },
  {
   "cell_type": "code",
   "execution_count": null,
   "metadata": {},
   "outputs": [],
   "source": [
    "# Dataset selection\n",
    "indice_dataset = 1\n",
    "\n",
    "actual_directory = os.getcwd() # Get the current directory\n",
    "dataset_dictionary = {0:[\"df_regresion_lineal_1\", 'y'],\n",
    "                 1:[\"df_regresion_lineal_2\", 'y'], \n",
    "                 2:[\"df_regresion_lineal_3\", 'y'],\n",
    "                 3:[\"fish\", 'Length'], \n",
    "                 4:[\"house\", 'selling_price'],\n",
    "                 5:[\"pop\", 'pop'], \n",
    "                 6:[\"salary\", 'Salary']} # Datasets names and the name of the column that contains the dependent variable\n",
    "\n",
    "# Load the dataset\n",
    "ds_name = dataset_dictionary[indice_dataset][0] + \".csv\"\n",
    "ds_path = os.path.join(actual_directory, 'datasets',ds_name)\n",
    "data_frame = pd.read_csv(ds_path)\n",
    "\n",
    "# Checks if dependent variable is in data frame, assign it to y and delete it\n",
    "if dataset_dictionary[indice_dataset][1] in data_frame.columns: \n",
    "    y = data_frame[dataset_dictionary[indice_dataset][1]].to_numpy()\n",
    "    y = y.reshape(-1,1)\n",
    "    data_frame.drop(columns=[dataset_dictionary[indice_dataset][1]], inplace=True)\n",
    "\n",
    "x = data_frame.to_numpy() # Independent variables nxm"
   ]
  },
  {
   "cell_type": "markdown",
   "metadata": {},
   "source": [
    "#### 1. Least Square method"
   ]
  },
  {
   "cell_type": "code",
   "execution_count": null,
   "metadata": {},
   "outputs": [],
   "source": [
    "w = f.least_squares(x, y)\n",
    "r2 = f.r2_score(x,y,w)\n",
    "fig = f.plot_linear_regression(x, y, w)\n",
    "plt.show()"
   ]
  },
  {
   "cell_type": "markdown",
   "metadata": {},
   "source": [
    "##### 2. Gradient Descent"
   ]
  },
  {
   "cell_type": "code",
   "execution_count": null,
   "metadata": {},
   "outputs": [],
   "source": [
    "w = f.gradient_descent(x,y)\n",
    "r2 = f.r2_score(x,y,w)\n",
    "print(r2)\n",
    "fig = f.plot_linear_regression(x, y, w)\n",
    "plt.show()"
   ]
  },
  {
   "cell_type": "markdown",
   "metadata": {},
   "source": [
    "#### 3. Pseudo-Inverse"
   ]
  },
  {
   "cell_type": "code",
   "execution_count": null,
   "metadata": {},
   "outputs": [],
   "source": [
    "w = f.pseudoinverse_method(x,y)\n",
    "f.plot_linear_regression(x, y, w)\n",
    "plt.show()"
   ]
  },
  {
   "cell_type": "code",
   "execution_count": null,
   "metadata": {},
   "outputs": [],
   "source": []
  }
 ],
 "metadata": {
  "kernelspec": {
   "display_name": "default_venv",
   "language": "python",
   "name": "python3"
  },
  "language_info": {
   "codemirror_mode": {
    "name": "ipython",
    "version": 3
   },
   "file_extension": ".py",
   "mimetype": "text/x-python",
   "name": "python",
   "nbconvert_exporter": "python",
   "pygments_lexer": "ipython3",
   "version": "3.11.9"
  }
 },
 "nbformat": 4,
 "nbformat_minor": 2
}
